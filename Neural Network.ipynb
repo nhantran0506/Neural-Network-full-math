{
 "cells": [
  {
   "cell_type": "code",
   "execution_count": 1,
   "metadata": {},
   "outputs": [
    {
     "name": "stdout",
     "output_type": "stream",
     "text": [
      "    height  weight  shoe_size  gender\n",
      "0      181      80         11    male\n",
      "1      177      70         10    male\n",
      "2      160      60          7  female\n",
      "3      154      54          6  female\n",
      "4      166      65          9    male\n",
      "5      190      90         12    male\n",
      "6      175      64          9  female\n",
      "7      177      70         10  female\n",
      "8      159      55          7  female\n",
      "9      171      75          9    male\n",
      "10     181      85         11    male\n"
     ]
    }
   ],
   "source": [
    "import pandas as pd\n",
    "import numpy as np\n",
    "\n",
    "# Example dataset for classification\n",
    "# Features: height (cm), weight (kg), shoe size (US)\n",
    "# Labels: gender (male/female)\n",
    "\n",
    "data = {'height': [181, 177, 160, 154, 166, 190, 175, 177, 159, 171, 181],\n",
    "        'weight': [80, 70, 60, 54, 65, 90, 64, 70, 55, 75, 85],\n",
    "        'shoe_size': [11, 10, 7, 6, 9, 12, 9, 10, 7, 9, 11],\n",
    "        'gender': ['male', 'male', 'female', 'female', 'male', 'male', 'female', 'female', 'female', 'male', 'male']}\n",
    "\n",
    "df = pd.DataFrame(data)\n",
    "\n",
    "print(df)"
   ]
  },
  {
   "attachments": {},
   "cell_type": "markdown",
   "metadata": {},
   "source": [
    "Encode"
   ]
  },
  {
   "cell_type": "code",
   "execution_count": 2,
   "metadata": {},
   "outputs": [],
   "source": [
    "gender_map ={'male':0,'female':1}\n",
    "df['gender'] = df['gender'].map(gender_map)"
   ]
  },
  {
   "cell_type": "code",
   "execution_count": 3,
   "metadata": {},
   "outputs": [
    {
     "data": {
      "text/html": [
       "<div>\n",
       "<style scoped>\n",
       "    .dataframe tbody tr th:only-of-type {\n",
       "        vertical-align: middle;\n",
       "    }\n",
       "\n",
       "    .dataframe tbody tr th {\n",
       "        vertical-align: top;\n",
       "    }\n",
       "\n",
       "    .dataframe thead th {\n",
       "        text-align: right;\n",
       "    }\n",
       "</style>\n",
       "<table border=\"1\" class=\"dataframe\">\n",
       "  <thead>\n",
       "    <tr style=\"text-align: right;\">\n",
       "      <th></th>\n",
       "      <th>height</th>\n",
       "      <th>weight</th>\n",
       "      <th>shoe_size</th>\n",
       "      <th>gender</th>\n",
       "    </tr>\n",
       "  </thead>\n",
       "  <tbody>\n",
       "    <tr>\n",
       "      <th>0</th>\n",
       "      <td>181</td>\n",
       "      <td>80</td>\n",
       "      <td>11</td>\n",
       "      <td>0</td>\n",
       "    </tr>\n",
       "    <tr>\n",
       "      <th>1</th>\n",
       "      <td>177</td>\n",
       "      <td>70</td>\n",
       "      <td>10</td>\n",
       "      <td>0</td>\n",
       "    </tr>\n",
       "    <tr>\n",
       "      <th>2</th>\n",
       "      <td>160</td>\n",
       "      <td>60</td>\n",
       "      <td>7</td>\n",
       "      <td>1</td>\n",
       "    </tr>\n",
       "    <tr>\n",
       "      <th>3</th>\n",
       "      <td>154</td>\n",
       "      <td>54</td>\n",
       "      <td>6</td>\n",
       "      <td>1</td>\n",
       "    </tr>\n",
       "    <tr>\n",
       "      <th>4</th>\n",
       "      <td>166</td>\n",
       "      <td>65</td>\n",
       "      <td>9</td>\n",
       "      <td>0</td>\n",
       "    </tr>\n",
       "    <tr>\n",
       "      <th>5</th>\n",
       "      <td>190</td>\n",
       "      <td>90</td>\n",
       "      <td>12</td>\n",
       "      <td>0</td>\n",
       "    </tr>\n",
       "    <tr>\n",
       "      <th>6</th>\n",
       "      <td>175</td>\n",
       "      <td>64</td>\n",
       "      <td>9</td>\n",
       "      <td>1</td>\n",
       "    </tr>\n",
       "    <tr>\n",
       "      <th>7</th>\n",
       "      <td>177</td>\n",
       "      <td>70</td>\n",
       "      <td>10</td>\n",
       "      <td>1</td>\n",
       "    </tr>\n",
       "    <tr>\n",
       "      <th>8</th>\n",
       "      <td>159</td>\n",
       "      <td>55</td>\n",
       "      <td>7</td>\n",
       "      <td>1</td>\n",
       "    </tr>\n",
       "    <tr>\n",
       "      <th>9</th>\n",
       "      <td>171</td>\n",
       "      <td>75</td>\n",
       "      <td>9</td>\n",
       "      <td>0</td>\n",
       "    </tr>\n",
       "    <tr>\n",
       "      <th>10</th>\n",
       "      <td>181</td>\n",
       "      <td>85</td>\n",
       "      <td>11</td>\n",
       "      <td>0</td>\n",
       "    </tr>\n",
       "  </tbody>\n",
       "</table>\n",
       "</div>"
      ],
      "text/plain": [
       "    height  weight  shoe_size  gender\n",
       "0      181      80         11       0\n",
       "1      177      70         10       0\n",
       "2      160      60          7       1\n",
       "3      154      54          6       1\n",
       "4      166      65          9       0\n",
       "5      190      90         12       0\n",
       "6      175      64          9       1\n",
       "7      177      70         10       1\n",
       "8      159      55          7       1\n",
       "9      171      75          9       0\n",
       "10     181      85         11       0"
      ]
     },
     "execution_count": 3,
     "metadata": {},
     "output_type": "execute_result"
    }
   ],
   "source": [
    "df"
   ]
  },
  {
   "attachments": {},
   "cell_type": "markdown",
   "metadata": {},
   "source": [
    "Start model"
   ]
  },
  {
   "cell_type": "code",
   "execution_count": 4,
   "metadata": {},
   "outputs": [],
   "source": [
    "df = np.array(df)\n",
    "X = df[:,:3]\n",
    "y = df[:,-1]\n"
   ]
  },
  {
   "cell_type": "code",
   "execution_count": 5,
   "metadata": {},
   "outputs": [
    {
     "data": {
      "text/plain": [
       "array([[181, 177, 160, 154, 166, 190, 175, 177, 159, 171, 181],\n",
       "       [ 80,  70,  60,  54,  65,  90,  64,  70,  55,  75,  85],\n",
       "       [ 11,  10,   7,   6,   9,  12,   9,  10,   7,   9,  11]],\n",
       "      dtype=int64)"
      ]
     },
     "execution_count": 5,
     "metadata": {},
     "output_type": "execute_result"
    }
   ],
   "source": [
    "X =X.T\n",
    "X"
   ]
  },
  {
   "cell_type": "code",
   "execution_count": 6,
   "metadata": {},
   "outputs": [
    {
     "data": {
      "text/plain": [
       "array([0, 0, 1, 1, 0, 0, 1, 1, 1, 0, 0], dtype=int64)"
      ]
     },
     "execution_count": 6,
     "metadata": {},
     "output_type": "execute_result"
    }
   ],
   "source": [
    "y"
   ]
  },
  {
   "cell_type": "code",
   "execution_count": 16,
   "metadata": {},
   "outputs": [],
   "source": [
    "num_features = X.shape[0] #3\n",
    "n_sample = X.shape[1]\n",
    "\n",
    "layer1 = 10\n",
    "layer2 = 10\n",
    "layer3 = 1\n",
    "\n",
    "\n",
    "\n",
    "def intital():\n",
    "    W1 = np.random.randn(layer1,num_features)\n",
    "    b1 = np.random.randn(layer1,1)-0.5\n",
    "\n",
    "    W2 = np.random.randn(layer2,layer1)\n",
    "    b2 = np.random.randn(layer2,1)-0.5\n",
    "\n",
    "    W3 = np.random.randn(layer3,layer2) #output layer\n",
    "    b3 = np.random.randn(layer3,1)-0.5\n",
    "\n",
    "    return W1, b1, W2, b2, W3,b3\n",
    "\n",
    "# forwards \n",
    "def Relu(Z):\n",
    "    return np.maximum(0, Z)\n",
    "\n",
    "def Sigmoid(Z):\n",
    "    return 1 / (1 + np.exp(-Z))\n",
    "\n",
    "\n",
    "def forwards(X,W1,W2,W3,b1,b2,b3):\n",
    "    A0 = X \n",
    "\n",
    "    Z1 = W1.dot(A0) + b1\n",
    "    A1 = Relu(Z1)\n",
    "\n",
    "    Z2 = W2.dot(A1) + b2\n",
    "    A2 = Relu(Z2)\n",
    "\n",
    "    Z3 = W3.dot(A2) + b3\n",
    "    A3 = Sigmoid(Z3)\n",
    "\n",
    "    return Z1,A1,Z2,A2,Z3,A3\n",
    "\n",
    "\n",
    "\n",
    "# backwards \n",
    "def Relu_deriv(Z):\n",
    "    return Z>0 \n",
    "\n",
    "def adjust_output(A3):\n",
    "    A3 = (A3 >= 0.5).astype(int)\n",
    "    return A3\n",
    "\n",
    "\n",
    "def backwards(Z1, A1, Z2, A2, Z3, A3, W3, W2, X, y):\n",
    "    A3 = adjust_output(A3)\n",
    "    \n",
    "    dZ3 = 2*(A3 - y)  /n_sample  \n",
    "    dW3 = dZ3.dot(A2.T) \n",
    "    db3 = np.sum(dZ3) \n",
    "\n",
    "    dZ2 = W3.T.dot(dZ3) * Relu_deriv(Z2)\n",
    "    dW2 = dZ2.dot(A2.T) \n",
    "    db2 = np.sum(dZ2) \n",
    "\n",
    "    dZ1 = W2.T.dot(dZ2) *Relu_deriv(Z1)\n",
    "    dW1 = dZ1.dot(X.T) \n",
    "    db1 = np.sum(dZ2) \n",
    "    \n",
    "    return dW3, db3, dW2, db2, dW1, db1\n",
    "\n",
    "def update_para(W1, b1, W2, b2,W3,b3,dW1,db1,dW2,db2,dW3,db3,learning_rate=0.01):\n",
    "    W3 = W3 - learning_rate*dW3\n",
    "    b3 = b3 - learning_rate*db3\n",
    "    W2 = W2 - learning_rate*dW2\n",
    "    b2 = b2 - learning_rate*db2\n",
    "    W1 = W1 - learning_rate*dW1\n",
    "    b1 = b1 - learning_rate*db1\n",
    "    return W1, b1, W2, b2, W3,b3\n",
    "\n",
    "\n",
    "#model \n",
    "def get_accuracy(y_val, y_test):\n",
    "    correct_predictions = np.sum(y_val == y_test)\n",
    "    total_predictions = len(y_test)\n",
    "    print(correct_predictions / total_predictions)\n",
    "\n",
    "\n",
    "def model(X,y):\n",
    "    W1, b1, W2, b2, W3,b3 = intital()\n",
    "    for i in range(1000):\n",
    "        Z1,A1,Z2,A2,Z3,A3 = forwards(X,W1,W2,W3,b1,b2,b3)\n",
    "        dW3, db3, dW2, db2, dW1, db1 = backwards(Z1, A1, Z2, A2, Z3, A3, W3, W2, X, y)\n",
    "        W1, b1, W2, b2, W3,b3 = update_para(W1, b1, W2, b2,W3,b3,dW1,db1,dW2,db2,dW3,db3)\n",
    "\n",
    "    return W1, b1, W2, b2, W3, b3, A1, A2, A3\n",
    "\n",
    "def predict(X,W1,W2,W3,b1,b2,b3):\n",
    "    Z1,A1,Z2,A2,Z3,A3 = forwards(X,W1,W2,W3,b1,b2,b3)\n",
    "    return A3\n",
    "    \n",
    "\n"
   ]
  },
  {
   "cell_type": "code",
   "execution_count": 17,
   "metadata": {},
   "outputs": [],
   "source": [
    "W1, b1, W2, b2, W3, b3, A1, A2, A3 = model(X,y)"
   ]
  },
  {
   "cell_type": "code",
   "execution_count": 18,
   "metadata": {},
   "outputs": [],
   "source": [
    "df_test = pd.DataFrame({'height': [169, 185, 148, 195, 160, 170, 172, 187, 198, 163],\n",
    "                        'weight': [58, 90, 45, 104, 56, 75, 67, 80, 110, 59],\n",
    "                        'shoe_size': [8, 11, 5, 13, 6, 9, 9, 10, 14, 7],\n",
    "                        'gender': ['female', 'male', 'female', 'male', 'female', 'male', 'female', 'male', 'male', 'female']})\n",
    "\n",
    "df_test['gender'] = df_test['gender'].map(gender_map)\n",
    "\n",
    "df_test = np.array(df_test)\n",
    "X_test = df_test[:,:3]\n",
    "y_test = df_test[:,-1]\n",
    "\n",
    "X_test = X_test.T\n"
   ]
  },
  {
   "cell_type": "code",
   "execution_count": 19,
   "metadata": {},
   "outputs": [],
   "source": [
    "y_pred = predict(X_test,W1,W2,W3,b1,b2,b3)"
   ]
  },
  {
   "cell_type": "code",
   "execution_count": 20,
   "metadata": {},
   "outputs": [
    {
     "name": "stdout",
     "output_type": "stream",
     "text": [
      "0.5\n"
     ]
    }
   ],
   "source": [
    "get_accuracy(adjust_output(y_pred),y_test)"
   ]
  },
  {
   "cell_type": "code",
   "execution_count": 21,
   "metadata": {},
   "outputs": [
    {
     "data": {
      "text/plain": [
       "array([[0, 0, 0, 0, 0, 0, 0, 0, 0, 0]])"
      ]
     },
     "execution_count": 21,
     "metadata": {},
     "output_type": "execute_result"
    }
   ],
   "source": [
    "adjust_output(y_pred)"
   ]
  },
  {
   "cell_type": "code",
   "execution_count": 14,
   "metadata": {},
   "outputs": [
    {
     "data": {
      "text/plain": [
       "array([1, 0, 1, 0, 1, 0, 1, 0, 0, 1], dtype=int64)"
      ]
     },
     "execution_count": 14,
     "metadata": {},
     "output_type": "execute_result"
    }
   ],
   "source": [
    "y_test"
   ]
  }
 ],
 "metadata": {
  "kernelspec": {
   "display_name": "base",
   "language": "python",
   "name": "python3"
  },
  "language_info": {
   "codemirror_mode": {
    "name": "ipython",
    "version": 3
   },
   "file_extension": ".py",
   "mimetype": "text/x-python",
   "name": "python",
   "nbconvert_exporter": "python",
   "pygments_lexer": "ipython3",
   "version": "3.10.9"
  },
  "orig_nbformat": 4
 },
 "nbformat": 4,
 "nbformat_minor": 2
}
